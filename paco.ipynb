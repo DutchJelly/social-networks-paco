{
 "cells": [
  {
   "cell_type": "code",
   "execution_count": 3,
   "metadata": {},
   "outputs": [],
   "source": [
    "import networkx as nx\n",
    "from typing import Iterable, Literal\n",
    "import pandas as pd\n",
    "\n",
    "\n",
    "def read_time_stamped_csv(\n",
    "    uri: str,\n",
    "    format: Literal[\"datetime\", \"numeric\"] = \"numeric\",\n",
    "    columns=(\"Source\", \"Target\", \"Timestamp\"),\n",
    ") -> tuple[nx.MultiDiGraph, Iterable[tuple[str, str, dict]]]:\n",
    "    source_column, target_column, timestamp_column = columns\n",
    "\n",
    "    dataset_df = pd.read_csv(uri)\n",
    "    if format == \"datetime\":\n",
    "        dataset_df[timestamp_column] = pd.to_datetime(\n",
    "            dataset_df[timestamp_column], format=\"%m/%d/%y %I:%M %p\"\n",
    "        )\n",
    "\n",
    "    G = nx.from_pandas_edgelist(\n",
    "        dataset_df,\n",
    "        source=source_column,\n",
    "        target=target_column,\n",
    "        edge_attr=[timestamp_column],\n",
    "        create_using=nx.MultiDiGraph,\n",
    "    )\n",
    "\n",
    "    return (G, sorted(G.edges(data=True), key=lambda x: x[2][timestamp_column]))"
   ]
  },
  {
   "cell_type": "code",
   "execution_count": 4,
   "metadata": {},
   "outputs": [],
   "source": [
    "G_college_msg, college_msg_edges = read_time_stamped_csv(\"college-msg.csv\", \"datetime\")"
   ]
  },
  {
   "cell_type": "code",
   "execution_count": 5,
   "metadata": {},
   "outputs": [],
   "source": [
    "def PaCo(\n",
    "    sorted_edges: Iterable[tuple[str, str, dict]],\n",
    "    delta_time: int,\n",
    "    max_path_length: int,\n",
    "    verbose=False,\n",
    "):\n",
    "    counts = dict()\n",
    "    window = list()\n",
    "    for source, target, time in sorted_edges:\n",
    "        time = time[\"Timestamp\"]\n",
    "        current_counts = dict()\n",
    "        current_counts[(source, target)] = 1\n",
    "\n",
    "        # remove items from the window that are too old (from looking at delta_time)\n",
    "        window = [\n",
    "            (source_window, target_window, time_window, dict_window)\n",
    "            for source_window, target_window, time_window, dict_window in window\n",
    "            if time_window >= time - delta_time\n",
    "        ]\n",
    "        for source_window, target_window, time_window, counts_window in window:\n",
    "            # skip if edge in window doesn't connect or is not formed after time\n",
    "            if target_window != source or time <= time_window:\n",
    "                continue\n",
    "\n",
    "            # look through the window which paths can be exteded with current edge\n",
    "            for path in counts_window.keys():\n",
    "                # Check if the length of path is not too large to add a node to it given max_path_length\n",
    "                if len(path) - 1 >= max_path_length:\n",
    "                    continue\n",
    "                # combine path in window with current edge, and count the path variations\n",
    "                combined_path = (*path, target)\n",
    "                current_counts[combined_path] = (\n",
    "                    current_counts.get(combined_path, 0) + counts_window[path]\n",
    "                )\n",
    "\n",
    "        if verbose:\n",
    "            print(\"current counts\", current_counts)\n",
    "\n",
    "        # Add current_counts to counts\n",
    "        for key in current_counts:\n",
    "            counts[key] = counts.get(key, 0) + current_counts[key]\n",
    "\n",
    "        # Increment window\n",
    "        window.append((source, target, time, current_counts))\n",
    "    return counts"
   ]
  },
  {
   "cell_type": "code",
   "execution_count": 6,
   "metadata": {},
   "outputs": [],
   "source": [
    "# Validate algorithm against the expected causal path counts from the PaCo paper\n",
    "def test_causal_path_algorithm(algorithm):\n",
    "    _, test_edges = read_time_stamped_csv(\"test-edges.csv\", \"numeric\")\n",
    "    result = algorithm(test_edges, 2, 3)\n",
    "    print(result)\n",
    "    expected_result = {\n",
    "        (\"a\", \"b\"): 2,\n",
    "        (\"b\", \"c\"): 2,\n",
    "        (\"c\", \"d\"): 1,\n",
    "        (\"d\", \"c\"): 2,\n",
    "        (\"c\", \"b\"): 1,\n",
    "        (\"b\", \"a\"): 1,\n",
    "        (\"a\", \"b\", \"a\"): 2,\n",
    "        (\"a\", \"b\", \"c\"): 2,\n",
    "        (\"b\", \"c\", \"d\"): 1,\n",
    "        (\"c\", \"b\", \"c\"): 1,\n",
    "        (\"d\", \"c\", \"b\"): 1,\n",
    "        (\"d\", \"c\", \"d\"): 2,\n",
    "    }\n",
    "    try:\n",
    "        assert result == expected_result\n",
    "        print(\"Tests succeeded ✅\")\n",
    "    except:\n",
    "        print(\"Tests failed ❌\")"
   ]
  },
  {
   "cell_type": "code",
   "execution_count": 7,
   "metadata": {},
   "outputs": [
    {
     "name": "stdout",
     "output_type": "stream",
     "text": [
      "{('a', 'b'): 2, ('b', 'a'): 1, ('a', 'b', 'a'): 2, ('b', 'c'): 2, ('a', 'b', 'c'): 2, ('d', 'c'): 2, ('c', 'd'): 1, ('b', 'c', 'd'): 1, ('a', 'b', 'c', 'd'): 2, ('d', 'c', 'd'): 2, ('c', 'b'): 1, ('d', 'c', 'b'): 1, ('c', 'b', 'c'): 1, ('d', 'c', 'b', 'c'): 1}\n",
      "Tests failed ❌\n"
     ]
    }
   ],
   "source": [
    "test_causal_path_algorithm(PaCo)"
   ]
  },
  {
   "cell_type": "code",
   "execution_count": null,
   "metadata": {},
   "outputs": [
    {
     "name": "stdout",
     "output_type": "stream",
     "text": [
      "2024-11-29 11:25:26 [2]\tExtracting time-respecting paths up to length 3 for delta = 2 ...\n",
      "2024-11-29 11:25:26 [2]\tCalculating sub path statistics ... \n",
      "2024-11-29 11:25:26 [2]\tfinished.\n",
      "3\n",
      "('a', 'b', 'a') -> 2\n",
      "('d', 'c', 'd') -> 2\n",
      "('c', 'b', 'c') -> 1\n",
      "('b', 'c', 'd') -> 1\n",
      "2024-11-29 11:25:26 [2]\tConcatenating paths to sequence ...\n",
      "2024-11-29 11:25:26 [2]\tfinished\n",
      "['a', 'b', 'a', ',', 'a', 'b', 'a', ',', 'd', 'c', 'd', ',', 'd', 'c', 'd', ',', 'c', 'b', 'c', ',', 'b', 'c', 'd', ',']\n",
      "None\n",
      "Tests failed ❌\n"
     ]
    }
   ],
   "source": [
    "from pathpy import TemporalNetwork, Paths\n",
    "from collections import Counter\n",
    "\n",
    "\n",
    "def pathpy_algorithm(\n",
    "    sorted_edges: Iterable[tuple[str, str, dict]],\n",
    "    delta_time: int,\n",
    "    max_path_length: int,\n",
    "    verbose=False,\n",
    "):\n",
    "    temporal_network = TemporalNetwork()\n",
    "    for source, target, time in sorted_edges:\n",
    "        time = time[\"Timestamp\"]\n",
    "        temporal_network.addEdge(source, target, int(time))\n",
    "\n",
    "    # for e in temporal_network.tedges:\n",
    "    #     print(e)\n",
    "    # temporal_network_dag, _ = DAG.from_temporal_network(\n",
    "    #     temporal_network, delta=delta_time\n",
    "    # )\n",
    "\n",
    "    # print(temporal_network_dag)\n",
    "\n",
    "    causal_paths = Paths.fromTemporalNetwork(\n",
    "        temporal_network, delta_time, max_path_length\n",
    "    )\n",
    "    print(max_path_length)\n",
    "    for p, counts in causal_paths.paths[max_path_length - 1].items():\n",
    "        print(f\"{p} -> {counts[1]}\")\n",
    "\n",
    "    print(causal_paths.getSequence(\",\"))\n",
    "\n",
    "    for l in causal_paths.paths:\n",
    "        for p in causal_paths.paths[l]:\n",
    "            if causal_paths.paths[l][p][1] > 0:\n",
    "                print(\"{0} -> {1}\".format(p, causal_paths.paths[l][p][1]))\n",
    "\n",
    "\n",
    "test_causal_path_algorithm(pathpy_algorithm)"
   ]
  }
 ],
 "metadata": {
  "kernelspec": {
   "display_name": "socialnetworks",
   "language": "python",
   "name": "python3"
  },
  "language_info": {
   "codemirror_mode": {
    "name": "ipython",
    "version": 3
   },
   "file_extension": ".py",
   "mimetype": "text/x-python",
   "name": "python",
   "nbconvert_exporter": "python",
   "pygments_lexer": "ipython3",
   "version": "3.12.7"
  }
 },
 "nbformat": 4,
 "nbformat_minor": 2
}
