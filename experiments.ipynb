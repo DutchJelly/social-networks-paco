{
 "cells": [
  {
   "cell_type": "code",
   "execution_count": 1,
   "metadata": {},
   "outputs": [],
   "source": [
    "import time\n",
    "\n",
    "\n",
    "def compare_runtime(configuration: dict, algorithms: list[tuple[str, any]]):\n",
    "    results = {}\n",
    "    for alg_name, alg in algorithms:\n",
    "        start_time = time.process_time()\n",
    "        alg(**configuration)\n",
    "        end_time = time.process_time()\n",
    "        results[alg_name] = end_time - start_time\n",
    "    return results"
   ]
  },
  {
   "cell_type": "code",
   "execution_count": 2,
   "metadata": {},
   "outputs": [],
   "source": [
    "import causalpathalgorithms\n",
    "\n",
    "algorithms = [\n",
    "    (\"PaCo\", causalpathalgorithms.PaCo),\n",
    "    (\"PaCo2\", causalpathalgorithms.PaCo2),\n",
    "    (\"Baseline\", causalpathalgorithms.pathpy_causal_paths),\n",
    "]"
   ]
  },
  {
   "cell_type": "code",
   "execution_count": 3,
   "metadata": {},
   "outputs": [],
   "source": [
    "import utils\n",
    "\n",
    "(_, college_msg_edge_set) = utils.read_time_stamped_csv(\n",
    "    \"data/college-msg.csv\", \"datetime\"\n",
    ")"
   ]
  },
  {
   "cell_type": "code",
   "execution_count": 4,
   "metadata": {},
   "outputs": [],
   "source": [
    "import pandas as pd\n",
    "\n",
    "pd.set_option(\"display.width\", 2000)"
   ]
  },
  {
   "cell_type": "code",
   "execution_count": null,
   "metadata": {},
   "outputs": [
    {
     "name": "stdout",
     "output_type": "stream",
     "text": [
      "        PaCo     PaCo2  Baseline  experiment  sorted_edges  delta_time  max_path_length\n",
      "20  0.010278  0.006206  0.024648  delta_time          1000          10                4\n",
      "21  0.016826  0.006348  0.031065  delta_time          1000          20                4\n",
      "22  0.022275  0.006519  0.038440  delta_time          1000          30                4\n",
      "23  0.027393  0.006113  0.044331  delta_time          1000          40                4\n",
      "24  0.032607  0.006385  0.049439  delta_time          1000          50                4\n"
     ]
    }
   ],
   "source": [
    "import datetime\n",
    "import pandas as pd\n",
    "\n",
    "\n",
    "def exp_runtime(dataset_sorted_edges):\n",
    "\n",
    "    # dictionary containing parameter keys and the values that we want to test. Each value is a tuple containing\n",
    "    # the readable format and the real parameter\n",
    "    alg_parameter_ranges = {\n",
    "        \"sorted_edges\": range(50, 1001, 50),\n",
    "        \"delta_time\": range(10, 60, 10),\n",
    "        \"max_path_length\": range(1, 5),\n",
    "    }\n",
    "    alg_parameter_defaults = {\n",
    "        \"sorted_edges\": 1000,\n",
    "        \"delta_time\": 30,\n",
    "        \"max_path_length\": 4,\n",
    "    }\n",
    "    parameter_preprocessors = {\n",
    "        \"sorted_edges\": lambda n: dataset_sorted_edges[:n],\n",
    "        \"delta_time\": lambda m: datetime.timedelta(minutes=m),\n",
    "    }\n",
    "\n",
    "    results = []\n",
    "\n",
    "    for param_key in alg_parameter_ranges.keys():\n",
    "        for param_value in alg_parameter_ranges[param_key]:\n",
    "            # Merge defaults with current iteration\n",
    "            readable_params = alg_parameter_defaults | {param_key: param_value}\n",
    "\n",
    "            # Apply processing to readable parameters to create proper parameters like an edge set or timedelta object\n",
    "            processed_params = readable_params.copy()\n",
    "            for processor_key, processor in parameter_preprocessors.items():\n",
    "                processed_params[processor_key] = processor(\n",
    "                    readable_params[processor_key]\n",
    "                )\n",
    "\n",
    "            runtimes_dict = compare_runtime(processed_params, algorithms)\n",
    "            current_result = runtimes_dict | {\"experiment\": param_key} | readable_params\n",
    "            results.append(current_result)\n",
    "\n",
    "    return results\n",
    "\n",
    "\n",
    "runtime_exp_results = exp_runtime(college_msg_edge_set)\n",
    "runtime_exp_results_df = pd.DataFrame(runtime_exp_results)\n",
    "print(runtime_exp_results_df[runtime_exp_results_df[\"experiment\"] == \"delta_time\"])"
   ]
  }
 ],
 "metadata": {
  "kernelspec": {
   "display_name": "socialnetworks",
   "language": "python",
   "name": "python3"
  },
  "language_info": {
   "codemirror_mode": {
    "name": "ipython",
    "version": 3
   },
   "file_extension": ".py",
   "mimetype": "text/x-python",
   "name": "python",
   "nbconvert_exporter": "python",
   "pygments_lexer": "ipython3",
   "version": "3.12.7"
  }
 },
 "nbformat": 4,
 "nbformat_minor": 2
}
